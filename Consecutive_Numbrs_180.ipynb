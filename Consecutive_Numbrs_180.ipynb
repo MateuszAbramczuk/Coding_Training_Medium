{
 "cells": [
  {
   "cell_type": "code",
   "execution_count": 1,
   "metadata": {},
   "outputs": [],
   "source": [
    "import pandas as pd"
   ]
  },
  {
   "cell_type": "code",
   "execution_count": 21,
   "metadata": {},
   "outputs": [
    {
     "data": {
      "text/html": [
       "<div>\n",
       "<style scoped>\n",
       "    .dataframe tbody tr th:only-of-type {\n",
       "        vertical-align: middle;\n",
       "    }\n",
       "\n",
       "    .dataframe tbody tr th {\n",
       "        vertical-align: top;\n",
       "    }\n",
       "\n",
       "    .dataframe thead th {\n",
       "        text-align: right;\n",
       "    }\n",
       "</style>\n",
       "<table border=\"1\" class=\"dataframe\">\n",
       "  <thead>\n",
       "    <tr style=\"text-align: right;\">\n",
       "      <th></th>\n",
       "      <th>ConsecutiveNums</th>\n",
       "    </tr>\n",
       "  </thead>\n",
       "  <tbody>\n",
       "    <tr>\n",
       "      <th>0</th>\n",
       "      <td>1</td>\n",
       "    </tr>\n",
       "  </tbody>\n",
       "</table>\n",
       "</div>"
      ],
      "text/plain": [
       "   ConsecutiveNums\n",
       "0                1"
      ]
     },
     "execution_count": 21,
     "metadata": {},
     "output_type": "execute_result"
    }
   ],
   "source": [
    "# My solution that i came up with, altho not ideal it have beeten 46.24% of users subbmisions\n",
    "\n",
    "data = {'id': [1,2,3,4,5,6,7], 'num': [1,1,1,2,1,2,2]}       \n",
    "df = pd.DataFrame(data)\n",
    "\n",
    "def consecutive_numbers(logs: pd.DataFrame) -> pd.DataFrame:\n",
    "    cons = []\n",
    "    logs = logs.sort_values(by='id')\n",
    "    for i in range(1, len(logs)):\n",
    "        if (logs.iloc[i,1] == logs.iloc[i-1,1] == logs.iloc[i-2,1]) & (len(logs) > 2) & (logs.iloc[i-2,0] == (logs.iloc[i,0] - 2)):\n",
    "            cons.append(logs.iloc[i,1])\n",
    "    \n",
    "    cons = pd.DataFrame({'ConsecutiveNums': cons})\n",
    "    cons = cons.drop_duplicates(subset=\"ConsecutiveNums\")\n",
    "    return cons\n",
    "\n",
    "consecutive_numbers(df)"
   ]
  },
  {
   "cell_type": "code",
   "execution_count": 22,
   "metadata": {},
   "outputs": [],
   "source": [
    "# One of the best solutions that were made by users with described steps:\n",
    "\n",
    "import pandas as pd\n",
    "\n",
    "def consecutive_numbers(logs: pd.DataFrame) -> pd.DataFrame:\n",
    "    # Sort the DataFrame by 'id' column in ascending order\n",
    "    logs = logs.sort_values(by=['id'], ascending=True)\n",
    "    \n",
    "    # Convert 'num' and 'id' columns to lists for easier iteration\n",
    "    num_list = list(logs['num'])\n",
    "    id_list = list(logs['id'])\n",
    "    \n",
    "    # Initialize an empty list to store numbers that appear consecutively\n",
    "    consecutive_numbers_list = []\n",
    "    \n",
    "    # Iterate through the list of numbers, checking for consecutive occurrences\n",
    "    for i in range(len(num_list) - 2):\n",
    "        # Check if the current number is the same as the next two numbers\n",
    "        # and if their ids are consecutive\n",
    "        if num_list[i] == num_list[i+1] == num_list[i+2] and id_list[i] + 1 == id_list[i+1] and id_list[i] + 2 == id_list[i+2]:\n",
    "            # If conditions are met, add the number to the list of consecutive numbers\n",
    "            consecutive_numbers_list.append(num_list[i])\n",
    "    \n",
    "    # Convert the list of consecutive numbers to a DataFrame\n",
    "    result_df = pd.DataFrame({\"ConsecutiveNums\": consecutive_numbers_list})\n",
    "    \n",
    "    # Remove duplicate entries from the DataFrame\n",
    "    result_df = pd.DataFrame(result_df['ConsecutiveNums'].unique(), columns=['ConsecutiveNums'])\n",
    "    \n",
    "    # Return the final result DataFrame\n",
    "    return result_df\n",
    "\n",
    "\n",
    "# Main difference between this solution and mine is that the author have created two lists for two columns of logs dataframe\n",
    "# instead of using logs DataFrame for the purpouse of itteration through rows."
   ]
  },
  {
   "cell_type": "code",
   "execution_count": null,
   "metadata": {},
   "outputs": [],
   "source": []
  },
  {
   "cell_type": "code",
   "execution_count": null,
   "metadata": {},
   "outputs": [],
   "source": []
  }
 ],
 "metadata": {
  "kernelspec": {
   "display_name": "master",
   "language": "python",
   "name": "python3"
  },
  "language_info": {
   "codemirror_mode": {
    "name": "ipython",
    "version": 3
   },
   "file_extension": ".py",
   "mimetype": "text/x-python",
   "name": "python",
   "nbconvert_exporter": "python",
   "pygments_lexer": "ipython3",
   "version": "3.12.2"
  }
 },
 "nbformat": 4,
 "nbformat_minor": 2
}
