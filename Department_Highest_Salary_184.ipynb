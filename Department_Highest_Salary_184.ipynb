{
 "cells": [
  {
   "cell_type": "code",
   "execution_count": 1,
   "metadata": {},
   "outputs": [],
   "source": [
    "import pandas as pd"
   ]
  },
  {
   "cell_type": "code",
   "execution_count": 18,
   "metadata": {},
   "outputs": [],
   "source": [
    "# First is my solution"
   ]
  },
  {
   "cell_type": "code",
   "execution_count": 17,
   "metadata": {},
   "outputs": [],
   "source": [
    "data1 = {'id': [1,2,3,4,5], 'name': ['Joe', 'Jim', 'Henry','Sam','Max'], 'salary': [7000,9000,8000,6000,9000], 'departmentId': [1,1,2,2,1]}\n",
    "data2 = {'id': [1,2], 'name': ['IT','Sales']}\n",
    "\n",
    "employee = pd.DataFrame(data1)\n",
    "department = pd.DataFrame(data2)"
   ]
  },
  {
   "cell_type": "code",
   "execution_count": null,
   "metadata": {},
   "outputs": [],
   "source": [
    "def department_highest_salary(employee: pd.DataFrame, department: pd.DataFrame):\n",
    "    max_values = employee.groupby('departmentId')['salary'].transform('max')\n",
    "    employee = employee[employee['salary'] == max_values]\n",
    "    output = pd.merge(employee, department, how='inner', left_on='departmentId', right_on='id')\n",
    "    output = output[['name_y','name_x','salary']]\n",
    "    output.rename(columns={'name_y': 'Department','name_x': 'Employee','salary': 'Salary'}, inplace=True)\n",
    "    return output\n",
    "\n",
    "department_highest_salary(employee, department)"
   ]
  },
  {
   "cell_type": "code",
   "execution_count": 19,
   "metadata": {},
   "outputs": [],
   "source": [
    "### Best solution"
   ]
  },
  {
   "cell_type": "code",
   "execution_count": 20,
   "metadata": {},
   "outputs": [
    {
     "name": "stderr",
     "output_type": "stream",
     "text": [
      "C:\\Users\\mabra\\AppData\\Local\\Temp\\ipykernel_1860\\657649899.py:3: FutureWarning: The provided callable <built-in function max> is currently using SeriesGroupBy.max. In a future version of pandas, the provided callable will be used directly. To keep current behavior pass the string \"max\" instead.\n",
      "  df = df_merged[df_merged['salary'] == df_merged.groupby('name_dpt')['salary'].transform(max)]\n"
     ]
    },
    {
     "data": {
      "text/html": [
       "<div>\n",
       "<style scoped>\n",
       "    .dataframe tbody tr th:only-of-type {\n",
       "        vertical-align: middle;\n",
       "    }\n",
       "\n",
       "    .dataframe tbody tr th {\n",
       "        vertical-align: top;\n",
       "    }\n",
       "\n",
       "    .dataframe thead th {\n",
       "        text-align: right;\n",
       "    }\n",
       "</style>\n",
       "<table border=\"1\" class=\"dataframe\">\n",
       "  <thead>\n",
       "    <tr style=\"text-align: right;\">\n",
       "      <th></th>\n",
       "      <th>Department</th>\n",
       "      <th>Employee</th>\n",
       "      <th>Salary</th>\n",
       "    </tr>\n",
       "  </thead>\n",
       "  <tbody>\n",
       "    <tr>\n",
       "      <th>1</th>\n",
       "      <td>IT</td>\n",
       "      <td>Jim</td>\n",
       "      <td>9000</td>\n",
       "    </tr>\n",
       "    <tr>\n",
       "      <th>2</th>\n",
       "      <td>Sales</td>\n",
       "      <td>Henry</td>\n",
       "      <td>8000</td>\n",
       "    </tr>\n",
       "    <tr>\n",
       "      <th>4</th>\n",
       "      <td>IT</td>\n",
       "      <td>Max</td>\n",
       "      <td>9000</td>\n",
       "    </tr>\n",
       "  </tbody>\n",
       "</table>\n",
       "</div>"
      ],
      "text/plain": [
       "  Department Employee  Salary\n",
       "1         IT      Jim    9000\n",
       "2      Sales    Henry    8000\n",
       "4         IT      Max    9000"
      ]
     },
     "execution_count": 20,
     "metadata": {},
     "output_type": "execute_result"
    }
   ],
   "source": [
    "def department_highest_salary(employee: pd.DataFrame, department: pd.DataFrame) -> pd.DataFrame:\n",
    "    df_merged = employee.merge(department, left_on = 'departmentId', right_on ='id',suffixes =('_emp','_dpt'))\n",
    "    df = df_merged[df_merged['salary'] == df_merged.groupby('name_dpt')['salary'].transform(max)]\n",
    "    df = df[['name_dpt', 'name_emp', 'salary']]\n",
    "    return df.rename(columns={'name_dpt': 'Department', 'name_emp': 'Employee', 'salary': 'Salary'})\n",
    "\n",
    "department_highest_salary(employee, department)\n",
    "\n",
    "# The main difference between this solution and the one that i have provided is that i have created separate\n",
    "# entity for max_values as well as renamed my columns in main code and not while returning the data"
   ]
  },
  {
   "cell_type": "code",
   "execution_count": null,
   "metadata": {},
   "outputs": [],
   "source": []
  }
 ],
 "metadata": {
  "kernelspec": {
   "display_name": "master",
   "language": "python",
   "name": "python3"
  },
  "language_info": {
   "codemirror_mode": {
    "name": "ipython",
    "version": 3
   },
   "file_extension": ".py",
   "mimetype": "text/x-python",
   "name": "python",
   "nbconvert_exporter": "python",
   "pygments_lexer": "ipython3",
   "version": "3.12.2"
  }
 },
 "nbformat": 4,
 "nbformat_minor": 2
}
