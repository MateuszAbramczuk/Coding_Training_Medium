{
 "cells": [
  {
   "cell_type": "code",
   "execution_count": 1,
   "metadata": {},
   "outputs": [],
   "source": [
    "import pandas as pd"
   ]
  },
  {
   "cell_type": "code",
   "execution_count": 25,
   "metadata": {},
   "outputs": [],
   "source": [
    "data = {'player_id': [1,1,2,3,3], 'device_id': [2,2,3,1,4], 'event_date': ['2016-03-01','2016-03-02','2017-06-25','2016-03-02','2018-07-03'], 'games_played': [5,6,1,0,5]}\n",
    "activity = pd.DataFrame(data)"
   ]
  },
  {
   "cell_type": "code",
   "execution_count": 30,
   "metadata": {},
   "outputs": [
    {
     "data": {
      "text/html": [
       "<div>\n",
       "<style scoped>\n",
       "    .dataframe tbody tr th:only-of-type {\n",
       "        vertical-align: middle;\n",
       "    }\n",
       "\n",
       "    .dataframe tbody tr th {\n",
       "        vertical-align: top;\n",
       "    }\n",
       "\n",
       "    .dataframe thead th {\n",
       "        text-align: right;\n",
       "    }\n",
       "</style>\n",
       "<table border=\"1\" class=\"dataframe\">\n",
       "  <thead>\n",
       "    <tr style=\"text-align: right;\">\n",
       "      <th></th>\n",
       "      <th>fraction</th>\n",
       "    </tr>\n",
       "  </thead>\n",
       "  <tbody>\n",
       "    <tr>\n",
       "      <th>0</th>\n",
       "      <td>0.33</td>\n",
       "    </tr>\n",
       "  </tbody>\n",
       "</table>\n",
       "</div>"
      ],
      "text/plain": [
       "   fraction\n",
       "0      0.33"
      ]
     },
     "execution_count": 30,
     "metadata": {},
     "output_type": "execute_result"
    }
   ],
   "source": [
    "def gameplay_analysis(activity: pd.DataFrame) -> pd.DataFrame:\n",
    "    players = len(activity.drop_duplicates(subset='player_id'))\n",
    "    activity['event_date'] = pd.to_datetime(activity['event_date'])\n",
    "    activity.sort_values(by=['player_id','event_date'])\n",
    "    consecutive_p = []\n",
    "\n",
    "    for i in range(1, len(activity)):\n",
    "        if (activity.loc[i,'event_date'] - activity.loc[i-1,'event_date'] == pd.Timedelta(days=1)) and \\\n",
    "            (activity.loc[i,'player_id'] == activity.loc[i-1,'player_id']) and \\\n",
    "            (activity.loc[i,'games_played'] !=0) and \\\n",
    "            (activity.loc[i-1,'games_played'] !=0):\n",
    "            consecutive_p.append(activity.loc[i,'player_id'])\n",
    "    \n",
    "    return pd.DataFrame({'fraction': [round(len(consecutive_p)/players,2)]})\n",
    "\n",
    "gameplay_analysis(activity)"
   ]
  },
  {
   "cell_type": "code",
   "execution_count": 23,
   "metadata": {},
   "outputs": [
    {
     "data": {
      "text/plain": [
       "Timedelta('1 days 00:00:00')"
      ]
     },
     "execution_count": 23,
     "metadata": {},
     "output_type": "execute_result"
    }
   ],
   "source": [
    "activity.loc[1,'event_date'] - activity.loc[0,'event_date']"
   ]
  },
  {
   "cell_type": "code",
   "execution_count": null,
   "metadata": {},
   "outputs": [],
   "source": []
  }
 ],
 "metadata": {
  "kernelspec": {
   "display_name": "master",
   "language": "python",
   "name": "python3"
  },
  "language_info": {
   "codemirror_mode": {
    "name": "ipython",
    "version": 3
   },
   "file_extension": ".py",
   "mimetype": "text/x-python",
   "name": "python",
   "nbconvert_exporter": "python",
   "pygments_lexer": "ipython3",
   "version": "3.12.2"
  }
 },
 "nbformat": 4,
 "nbformat_minor": 2
}
