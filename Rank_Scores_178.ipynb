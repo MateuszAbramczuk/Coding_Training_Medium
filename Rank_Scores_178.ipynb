{
 "cells": [
  {
   "cell_type": "code",
   "execution_count": 2,
   "metadata": {},
   "outputs": [],
   "source": [
    "import pandas as pd"
   ]
  },
  {
   "cell_type": "code",
   "execution_count": 4,
   "metadata": {},
   "outputs": [
    {
     "name": "stdout",
     "output_type": "stream",
     "text": [
      "   score  rank\n",
      "0   4.00     1\n",
      "1   4.00     1\n",
      "2   3.85     2\n",
      "3   3.65     3\n",
      "4   3.65     3\n",
      "5   3.50     4\n",
      "   score  rank\n",
      "1   4.00   1.0\n",
      "4   4.00   1.0\n",
      "3   3.85   2.0\n",
      "2   3.65   3.0\n",
      "5   3.65   3.0\n",
      "0   3.50   4.0\n"
     ]
    }
   ],
   "source": [
    "# Question 178. Rank Scores\n",
    "# in this questtion i have to create a program that will rank scores where results that have the same score are given the same rank\n",
    "\n",
    "data = {'score': [3.5, 4, 3.65, 3.85, 4, 3.65],'id':[1,2,3,4,5,6]}\n",
    "df = pd.DataFrame(data)\n",
    "\n",
    "def order_scores_my_code(scores: pd.DataFrame) -> pd.DataFrame:\n",
    "    scores = scores.sort_values(by='score',ascending=False).reset_index(drop=True)\n",
    "    scores[\"rank\"] = 1\n",
    "    for i in range(1, len(scores)):\n",
    "        if scores.loc[i,\"score\"] == scores.loc[i-1,\"score\"]:\n",
    "            scores.loc[i,\"rank\"] = scores.loc[i-1,\"rank\"]\n",
    "        else:\n",
    "            scores.loc[i,\"rank\"] = scores.loc[i-1,\"rank\"]+1\n",
    "    \n",
    "    return scores[[\"score\",\"rank\"]]\n",
    "\n",
    "solution = order_scores_my_code(df)\n",
    "print(solution)\n",
    "\n",
    "# The solution that i came up with is not ideal. It passed all cases but overall was not really performing well in comparison to other solutions\n",
    "\n",
    "# Other solution which is much more elegant and was created bu someone else\n",
    "\n",
    "def order_scores(scores: pd.DataFrame) -> pd.DataFrame:\n",
    "    scores['rank'] = scores['score'].rank(method='dense', ascending=False)\n",
    "    result_df = scores.drop('id',axis=1).sort_values(by='score', ascending=False)\n",
    "    return result_df\n",
    "\n",
    "solution2 = order_scores(df)\n",
    "print(solution2)"
   ]
  },
  {
   "cell_type": "code",
   "execution_count": null,
   "metadata": {},
   "outputs": [],
   "source": []
  }
 ],
 "metadata": {
  "kernelspec": {
   "display_name": "master",
   "language": "python",
   "name": "python3"
  },
  "language_info": {
   "codemirror_mode": {
    "name": "ipython",
    "version": 3
   },
   "file_extension": ".py",
   "mimetype": "text/x-python",
   "name": "python",
   "nbconvert_exporter": "python",
   "pygments_lexer": "ipython3",
   "version": "3.12.2"
  }
 },
 "nbformat": 4,
 "nbformat_minor": 2
}
